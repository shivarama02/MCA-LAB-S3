{
 "cells": [
  {
   "cell_type": "code",
   "execution_count": 1,
   "id": "5f795d96",
   "metadata": {},
   "outputs": [
    {
     "name": "stdout",
     "output_type": "stream",
     "text": [
      "Enter the matrix elements : \n",
      "matrix 1 \n",
      " [[1. 3. 5.]\n",
      " [7. 9. 2.]\n",
      " [4. 6. 8.]]\n",
      "matrix 2 \n",
      " [[2. 4. 6.]\n",
      " [8. 1. 3.]\n",
      " [5. 7. 9.]]\n"
     ]
    }
   ],
   "source": [
    "import numpy as np\n",
    "\n",
    "mat1 = np.empty((3,3))\n",
    "mat2 = np.empty((3,3))\n",
    "print(\"Enter the matrix elements : \")\n",
    "for i in range(0,3):\n",
    "    for j in range(0,3):\n",
    "        mat1[i][j] = int(input(f\"Enter elements {i},{j} of matrix 1 : \"))\n",
    "        mat2[i][j] = int(input(f\"Enter elements {i},{j} of matrix 2 : \"))\n",
    "print(\"matrix 1 \\n\",mat1)\n",
    "print(\"matrix 2 \\n\",mat2)\n"
   ]
  },
  {
   "cell_type": "code",
   "execution_count": 2,
   "id": "6a02b112",
   "metadata": {},
   "outputs": [
    {
     "name": "stdout",
     "output_type": "stream",
     "text": [
      "Direct multiplication\n",
      "[[ 2. 12. 30.]\n",
      " [56.  9.  6.]\n",
      " [20. 42. 72.]]\n",
      "Matrrix multiplcation\n",
      "[[ 51.  42.  60.]\n",
      " [ 96.  51.  87.]\n",
      " [ 96.  78. 114.]]\n"
     ]
    }
   ],
   "source": [
    "print(\"Direct multiplication\")\n",
    "print(mat1*mat2)\n",
    "print(\"Matrrix multiplcation\")\n",
    "print(np.dot(mat1,mat2))"
   ]
  },
  {
   "cell_type": "code",
   "execution_count": 3,
   "id": "fa9d1bfe",
   "metadata": {},
   "outputs": [
    {
     "name": "stdout",
     "output_type": "stream",
     "text": [
      "Matrix 1 transpose\n",
      "[[1. 7. 4.]\n",
      " [3. 9. 6.]\n",
      " [5. 2. 8.]]\n",
      "Matrix 2 transpose\n",
      "[[2. 8. 5.]\n",
      " [4. 1. 7.]\n",
      " [6. 3. 9.]]\n"
     ]
    }
   ],
   "source": [
    "print(\"Matrix 1 transpose\")\n",
    "print(np.transpose(mat1))\n",
    "print(\"Matrix 2 transpose\")\n",
    "print(np.transpose(mat2))"
   ]
  },
  {
   "cell_type": "code",
   "execution_count": 4,
   "id": "c616a9a2",
   "metadata": {},
   "outputs": [
    {
     "name": "stdout",
     "output_type": "stream",
     "text": [
      "Matrix 1 trace\n",
      "18.0\n",
      "Matrix 2 trace\n",
      "12.0\n"
     ]
    }
   ],
   "source": [
    "print(\"Matrix 1 trace\")\n",
    "print(np.trace(mat1))\n",
    "print(\"Matrix 2 trace\")\n",
    "print(np.trace(mat2))"
   ]
  },
  {
   "cell_type": "code",
   "execution_count": 5,
   "id": "db56bbe0",
   "metadata": {},
   "outputs": [
    {
     "name": "stdout",
     "output_type": "stream",
     "text": [
      "Rank of matrix 1\n",
      "3\n",
      "Rank of matrix 2\n",
      "3\n"
     ]
    }
   ],
   "source": [
    "print(\"Rank of matrix 1\")\n",
    "print(np.linalg.matrix_rank(mat1))\n",
    "print(\"Rank of matrix 2\")\n",
    "print(np.linalg.matrix_rank(mat2))"
   ]
  },
  {
   "cell_type": "code",
   "execution_count": 6,
   "id": "41d757fd",
   "metadata": {},
   "outputs": [
    {
     "name": "stdout",
     "output_type": "stream",
     "text": [
      "Determinant of matrix 1\n",
      "\n",
      "-54.00000000000001\n",
      "\n",
      "Determinant of matrix 2\n",
      "\n",
      "53.99999999999996\n"
     ]
    }
   ],
   "source": [
    "print(\"Determinant of matrix 1\\n\")\n",
    "print(np.linalg.det(mat1))\n",
    "print(\"\\nDeterminant of matrix 2\\n\")\n",
    "print(np.linalg.det(mat2))"
   ]
  },
  {
   "cell_type": "code",
   "execution_count": 7,
   "id": "57dd651a",
   "metadata": {},
   "outputs": [
    {
     "name": "stdout",
     "output_type": "stream",
     "text": [
      "Inverse of matrix 1\n",
      "\n",
      "[[-1.11111111 -0.11111111  0.72222222]\n",
      " [ 0.88888889  0.22222222 -0.61111111]\n",
      " [-0.11111111 -0.11111111  0.22222222]]\n",
      "\n",
      "Inverse of matrix 2\n",
      "\n",
      "[[-0.22222222  0.11111111  0.11111111]\n",
      " [-1.05555556 -0.22222222  0.77777778]\n",
      " [ 0.94444444  0.11111111 -0.55555556]]\n"
     ]
    }
   ],
   "source": [
    "print(\"Inverse of matrix 1\\n\")\n",
    "print(np.linalg.inv(mat1))\n",
    "print(\"\\nInverse of matrix 2\\n\")\n",
    "print(np.linalg.inv(mat2))"
   ]
  },
  {
   "cell_type": "code",
   "execution_count": 8,
   "id": "64d6b2de",
   "metadata": {},
   "outputs": [
    {
     "name": "stdout",
     "output_type": "stream",
     "text": [
      "Eigen values of matrix 1\n",
      "\n",
      "[15.4422907  -0.98661655  3.54432584]\n",
      "\n",
      "Eigen vectors of matrix 1\n",
      "\n",
      "[[ 0.36886455  0.81664483  0.37173179]\n",
      " [ 0.61669356 -0.57673733 -0.7003462 ]\n",
      " [ 0.69543367  0.02157037  0.60936908]]\n",
      "\n",
      "Eigen values of matrix 2\n",
      "\n",
      "[15.66678757+0.j         -1.83339378+0.29231685j -1.83339378-0.29231685j]\n",
      "\n",
      "Eigen vectors of matrix 2\n",
      "\n",
      "[[ 0.46476339+0.j          0.11633808-0.04397186j  0.11633808+0.04397186j]\n",
      " [ 0.4136381 +0.j         -0.85691385+0.j         -0.85691385-0.j        ]\n",
      " [ 0.78287835+0.j          0.49908991+0.03376151j  0.49908991-0.03376151j]]\n"
     ]
    }
   ],
   "source": [
    "print(\"Eigen values of matrix 1\\n\")\n",
    "print(np.linalg.eigvals(mat1))\n",
    "print(\"\\nEigen vectors of matrix 1\\n\")\n",
    "print(np.linalg.eig(mat1)[1])\n",
    "print(\"\\nEigen values of matrix 2\\n\")\n",
    "print(np.linalg.eigvals(mat2))\n",
    "print(\"\\nEigen vectors of matrix 2\\n\")\n",
    "print(np.linalg.eig(mat2)[1])"
   ]
  }
 ],
 "metadata": {
  "kernelspec": {
   "display_name": "base",
   "language": "python",
   "name": "python3"
  },
  "language_info": {
   "codemirror_mode": {
    "name": "ipython",
    "version": 3
   },
   "file_extension": ".py",
   "mimetype": "text/x-python",
   "name": "python",
   "nbconvert_exporter": "python",
   "pygments_lexer": "ipython3",
   "version": "3.12.4"
  }
 },
 "nbformat": 4,
 "nbformat_minor": 5
}
