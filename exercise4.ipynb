{
 "cells": [
  {
   "cell_type": "code",
   "execution_count": 9,
   "id": "e611f5fd",
   "metadata": {},
   "outputs": [
    {
     "name": "stdout",
     "output_type": "stream",
     "text": [
      "0    10\n",
      "1    20\n",
      "2    30\n",
      "3    40\n",
      "4    50\n",
      "dtype: int64\n"
     ]
    }
   ],
   "source": [
    "import pandas as pd\n",
    "list = [10,20,30,40,50]\n",
    "series = pd.Series(list)\n",
    "print(series)"
   ]
  },
  {
   "cell_type": "code",
   "execution_count": 10,
   "id": "9f2f181d",
   "metadata": {},
   "outputs": [
    {
     "name": "stdout",
     "output_type": "stream",
     "text": [
      "DatetimeIndex(['2021-05-01', '2021-05-02', '2021-05-03', '2021-05-04',\n",
      "               '2021-05-05', '2021-05-06', '2021-05-07', '2021-05-08',\n",
      "               '2021-05-09', '2021-05-10', '2021-05-11', '2021-05-12'],\n",
      "              dtype='datetime64[ns]', freq='D')\n"
     ]
    }
   ],
   "source": [
    "print(pd.date_range(\"2021-05-01\",\"2021-05-12\"))"
   ]
  },
  {
   "cell_type": "code",
   "execution_count": 11,
   "id": "c9deee99",
   "metadata": {},
   "outputs": [
    {
     "name": "stdout",
     "output_type": "stream",
     "text": [
      "Dictionary to DataFrame:\n",
      "       Name  Age       City\n",
      "0    Alice   24      Delhi\n",
      "1      Bob   30     Mumbai\n",
      "2  Charlie   28  Bangalore\n"
     ]
    }
   ],
   "source": [
    "data = {\n",
    "    \"Name\": [\"Alice\", \"Bob\", \"Charlie\"],\n",
    "    \"Age\": [24, 30, 28],\n",
    "    \"City\": [\"Delhi\", \"Mumbai\", \"Bangalore\"]\n",
    "}\n",
    "df = pd.DataFrame(data)\n",
    "print(\"Dictionary to DataFrame:\\n\", df)"
   ]
  },
  {
   "cell_type": "code",
   "execution_count": 14,
   "id": "792992f2",
   "metadata": {},
   "outputs": [
    {
     "name": "stdout",
     "output_type": "stream",
     "text": [
      "  Name  Age\n",
      "0    A   24\n",
      "1    B   30\n"
     ]
    },
    {
     "data": {
      "text/plain": [
       "'\\ndata = [\\n    [\"Alice\", 24, \"Delhi\"],\\n    [\"Bob\", 30, \"Mumbai\"],\\n    [\"Charlie\", 28, \"Bangalore\"]\\n]\\ndf = pd.DataFrame(data, columns=[\"Name\", \"Age\", \"City\"])\\nprint(\"2D List to DataFrame:\\n\", df)\\n'"
      ]
     },
     "execution_count": 14,
     "metadata": {},
     "output_type": "execute_result"
    }
   ],
   "source": [
    "print(pd.DataFrame([[\"A\",24],[\"B\",30]],columns=[\"Name\",\"Age\"]))\n",
    "'''\n",
    "data = [\n",
    "    [\"Alice\", 24, \"Delhi\"],\n",
    "    [\"Bob\", 30, \"Mumbai\"],\n",
    "    [\"Charlie\", 28, \"Bangalore\"]\n",
    "]\n",
    "df = pd.DataFrame(data, columns=[\"Name\", \"Age\", \"City\"])\n",
    "print(\"2D List to DataFrame:\\n\", df)\n",
    "'''"
   ]
  },
  {
   "cell_type": "code",
   "execution_count": 15,
   "id": "bf69cc5a",
   "metadata": {},
   "outputs": [
    {
     "name": "stdout",
     "output_type": "stream",
     "text": [
      "CSV to DataFrame:\n",
      "          Country  Gold Medals\n",
      "0  United States           46\n",
      "1  Great Britain           27\n",
      "2          China           26\n",
      "3         Russia           19\n",
      "4        Germany           17\n"
     ]
    }
   ],
   "source": [
    "df = pd.read_csv(\"array.csv\")\n",
    "print(\"CSV to DataFrame:\\n\", df)"
   ]
  }
 ],
 "metadata": {
  "kernelspec": {
   "display_name": "base",
   "language": "python",
   "name": "python3"
  },
  "language_info": {
   "codemirror_mode": {
    "name": "ipython",
    "version": 3
   },
   "file_extension": ".py",
   "mimetype": "text/x-python",
   "name": "python",
   "nbconvert_exporter": "python",
   "pygments_lexer": "ipython3",
   "version": "3.12.4"
  }
 },
 "nbformat": 4,
 "nbformat_minor": 5
}
