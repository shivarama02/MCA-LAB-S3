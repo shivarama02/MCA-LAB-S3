{
 "cells": [
  {
   "cell_type": "code",
   "execution_count": 26,
   "id": "fc7e7033",
   "metadata": {},
   "outputs": [
    {
     "name": "stdout",
     "output_type": "stream",
     "text": [
      "0    10\n",
      "1    20\n",
      "2    30\n",
      "3    40\n",
      "4    50\n",
      "dtype: int64\n"
     ]
    }
   ],
   "source": [
    "import pandas as pd\n",
    "print(pd.Series([10, 20, 30, 40, 50]))"
   ]
  },
  {
   "cell_type": "code",
   "execution_count": 27,
   "id": "8633643e",
   "metadata": {},
   "outputs": [
    {
     "name": "stdout",
     "output_type": "stream",
     "text": [
      "DatetimeIndex(['2021-05-01', '2021-05-02', '2021-05-03', '2021-05-04',\n",
      "               '2021-05-05', '2021-05-06', '2021-05-07', '2021-05-08',\n",
      "               '2021-05-09', '2021-05-10', '2021-05-11', '2021-05-12'],\n",
      "              dtype='datetime64[ns]', freq='D')\n"
     ]
    }
   ],
   "source": [
    "print(pd.date_range(\"2021-05-01\",\"2021-05-12\"))"
   ]
  },
  {
   "cell_type": "code",
   "execution_count": 28,
   "id": "63270bbb",
   "metadata": {},
   "outputs": [
    {
     "name": "stdout",
     "output_type": "stream",
     "text": [
      "Dictionary to DataFrame:\n",
      "       Name  Age       City\n",
      "0    Alice   24      Delhi\n",
      "1      Bob   30     Mumbai\n",
      "2  Charlie   28  Bangalore\n"
     ]
    }
   ],
   "source": [
    "#QN3 DICT  TO DF\n",
    "data = {\n",
    "    \"Name\": [\"Alice\", \"Bob\", \"Charlie\"],\n",
    "    \"Age\": [24, 30, 28],\n",
    "    \"City\": [\"Delhi\", \"Mumbai\", \"Bangalore\"]\n",
    "}\n",
    "df = pd.DataFrame(data)\n",
    "print(\"Dictionary to DataFrame:\\n\", df)"
   ]
  },
  {
   "cell_type": "code",
   "execution_count": 29,
   "id": "1b59635c",
   "metadata": {},
   "outputs": [
    {
     "name": "stdout",
     "output_type": "stream",
     "text": [
      "  Name  Age\n",
      "0    A   24\n",
      "1    B   30\n"
     ]
    }
   ],
   "source": [
    "#qn4\n",
    "print(pd.DataFrame([[\"A\",24],[\"B\",30]],columns=[\"Name\",\"Age\"]))"
   ]
  },
  {
   "cell_type": "code",
   "execution_count": 30,
   "id": "80307491",
   "metadata": {},
   "outputs": [
    {
     "name": "stdout",
     "output_type": "stream",
     "text": [
      "CSV to DataFrame:\n",
      "          Country  Gold Medals\n",
      "0  United States           46\n",
      "1  Great Britain           27\n",
      "2          China           26\n",
      "3         Russia           19\n",
      "4        Germany           17\n"
     ]
    }
   ],
   "source": [
    "df = pd.read_csv(\"ex3.csv\")  # replace with actual CSV filename\n",
    "print(\"CSV to DataFrame:\\n\", df)"
   ]
  },
  {
   "cell_type": "code",
   "execution_count": 31,
   "id": "79af6cd2",
   "metadata": {},
   "outputs": [
    {
     "name": "stdout",
     "output_type": "stream",
     "text": [
      "Sorted by Age & Salary:\n",
      "       Name  Age       City\n",
      "0    Alice   24      Delhi\n",
      "2  Charlie   28  Bangalore\n",
      "1      Bob   30     Mumbai\n"
     ]
    }
   ],
   "source": [
    "#qn6 sort df multiple col\n",
    "df = pd.DataFrame(data)\n",
    "sorted_df = df.sort_values(by=[\"Age\", \"City\"])\n",
    "print(\"Sorted by Age & Salary:\\n\", sorted_df)"
   ]
  },
  {
   "cell_type": "code",
   "execution_count": 32,
   "id": "2feeb5f7",
   "metadata": {},
   "outputs": [
    {
     "name": "stdout",
     "output_type": "stream",
     "text": [
      "Custom Indexing:\n",
      "       Name  Age\n",
      "a    Alice   24\n",
      "b      Bob   30\n",
      "c  Charlie   28\n",
      "\n",
      "Converted to Default Indexing:\n",
      "       Name  Age\n",
      "0    Alice   24\n",
      "1      Bob   30\n",
      "2  Charlie   28\n"
     ]
    }
   ],
   "source": [
    "#qn7 \n",
    "data = {\n",
    "    \"Name\": [\"Alice\", \"Bob\", \"Charlie\"],\n",
    "    \"Age\": [24, 30, 28]\n",
    "}\n",
    "df = pd.DataFrame(data, index=[\"a\", \"b\", \"c\"])\n",
    "print(\"Custom Indexing:\\n\", df)\n",
    "\n",
    "df_reset = df.reset_index(drop=True)\n",
    "print(\"\\nConverted to Default Indexing:\\n\", df_reset)"
   ]
  },
  {
   "cell_type": "code",
   "execution_count": 33,
   "id": "0b926d22",
   "metadata": {},
   "outputs": [
    {
     "name": "stdout",
     "output_type": "stream",
     "text": [
      "First 2 Rows:\n",
      "     Name  Age\n",
      "0  Alice   24\n",
      "1    Bob   30\n"
     ]
    }
   ],
   "source": [
    "#qn8 first 2 rows\n",
    "data = {\"Name\": [\"Alice\", \"Bob\", \"Charlie\"], \"Age\": [24, 30, 28]}\n",
    "df = pd.DataFrame(data)\n",
    "print(\"First 2 Rows:\\n\", df.head(2))"
   ]
  },
  {
   "cell_type": "code",
   "execution_count": 34,
   "id": "a2bbdc55",
   "metadata": {},
   "outputs": [
    {
     "name": "stdout",
     "output_type": "stream",
     "text": [
      "Average Salary per Occupation:\n",
      " Occupation\n",
      "Doctor      85000.0\n",
      "Engineer    52500.0\n",
      "Name: Salary, dtype: float64\n"
     ]
    }
   ],
   "source": [
    "#qn9\n",
    "import pandas as pd\n",
    "\n",
    "data = {\n",
    "    \"Name\": [\"Alice\", \"Bob\", \"Charlie\", \"David\"],\n",
    "    \"Occupation\": [\"Engineer\", \"Doctor\", \"Engineer\", \"Doctor\"],\n",
    "    \"Salary\": [50000, 80000, 55000, 90000]\n",
    "}\n",
    "df = pd.DataFrame(data)\n",
    "avg_salary = df.groupby(\"Occupation\")[\"Salary\"].mean()\n",
    "print(\"Average Salary per Occupation:\\n\", avg_salary)"
   ]
  },
  {
   "cell_type": "code",
   "execution_count": 35,
   "id": "699af97e",
   "metadata": {},
   "outputs": [
    {
     "name": "stdout",
     "output_type": "stream",
     "text": [
      "Before Filling NaN:\n",
      "      A    B\n",
      "0  1.0  4.0\n",
      "1  NaN  5.0\n",
      "2  3.0  NaN\n",
      "\n",
      "After Filling NaN:\n",
      "      A    B\n",
      "0  1.0  4.0\n",
      "1  0.0  5.0\n",
      "2  3.0  0.0\n"
     ]
    }
   ],
   "source": [
    "import pandas as pd\n",
    "import numpy as np\n",
    "\n",
    "data = {\n",
    "    \"A\": [1, np.nan, 3],\n",
    "    \"B\": [4, 5, np.nan]\n",
    "}\n",
    "df = pd.DataFrame(data)\n",
    "print(\"Before Filling NaN:\\n\", df)\n",
    "\n",
    "df_filled = df.fillna(0)\n",
    "print(\"\\nAfter Filling NaN:\\n\", df_filled)"
   ]
  },
  {
   "cell_type": "code",
   "execution_count": 36,
   "id": "ec5235de",
   "metadata": {},
   "outputs": [
    {
     "name": "stdout",
     "output_type": "stream",
     "text": [
      "Profit Column Converted to Boolean:\n",
      "   cname  profit\n",
      "0     A    True\n",
      "1     B   False\n",
      "2     C   False\n"
     ]
    }
   ],
   "source": [
    "import pandas as pd\n",
    "\n",
    "data = {\n",
    "    \"cname\": [\"A\", \"B\", \"C\"],\n",
    "    \"profit\": [1000, -500, 0]\n",
    "}\n",
    "df = pd.DataFrame(data)\n",
    "df[\"profit\"] = df[\"profit\"] > 0\n",
    "print(\"Profit Column Converted to Boolean:\\n\", df)"
   ]
  },
  {
   "cell_type": "code",
   "execution_count": 37,
   "id": "e9e59799",
   "metadata": {},
   "outputs": [
    {
     "name": "stdout",
     "output_type": "stream",
     "text": [
      "Merged DataFrame:\n",
      "    eid    ename  stipend designation\n",
      "0  101    Alice     1000      Intern\n",
      "1  102      Bob     1200     Trainee\n",
      "2  103  Charlie     1500      Junior\n"
     ]
    }
   ],
   "source": [
    "import pandas as pd\n",
    "\n",
    "df1 = pd.DataFrame({\n",
    "    \"eid\": [101, 102, 103],\n",
    "    \"ename\": [\"Alice\", \"Bob\", \"Charlie\"],\n",
    "    \"stipend\": [1000, 1200, 1500]\n",
    "})\n",
    "\n",
    "df2 = pd.DataFrame({\n",
    "    \"eid\": [101, 102, 103],\n",
    "    \"designation\": [\"Intern\", \"Trainee\", \"Junior\"]\n",
    "})\n",
    "\n",
    "merged_df = pd.merge(df1, df2, on=\"eid\")\n",
    "print(\"Merged DataFrame:\\n\", merged_df)"
   ]
  }
 ],
 "metadata": {
  "kernelspec": {
   "display_name": "base",
   "language": "python",
   "name": "python3"
  },
  "language_info": {
   "codemirror_mode": {
    "name": "ipython",
    "version": 3
   },
   "file_extension": ".py",
   "mimetype": "text/x-python",
   "name": "python",
   "nbconvert_exporter": "python",
   "pygments_lexer": "ipython3",
   "version": "3.12.7"
  }
 },
 "nbformat": 4,
 "nbformat_minor": 5
}
