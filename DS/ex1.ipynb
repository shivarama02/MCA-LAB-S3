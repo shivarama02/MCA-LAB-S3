{
 "cells": [
  {
   "cell_type": "markdown",
   "id": "390deba9",
   "metadata": {},
   "source": [
    "1. Write a Numpy program to convert Fahrenheit  degree to centigrade degree. Fehrenheit values are stored in a Numpy array"
   ]
  },
  {
   "cell_type": "code",
   "execution_count": 2,
   "id": "60be8b84",
   "metadata": {},
   "outputs": [
    {
     "name": "stdout",
     "output_type": "stream",
     "text": [
      "Fahrenheit:  [10. 55. 23. 30. 32.]\n",
      "Centigrade:  [-12.22222222  12.77777778  -5.          -1.11111111   0.        ]\n"
     ]
    }
   ],
   "source": [
    "import numpy as np\n",
    "n=int(input(\"Enter number of Fahrenheit values: \"))\n",
    "xin=np.ones((n))\n",
    "cout=np.ones((n))\n",
    "for i in range(0,n):\n",
    "    xin[i]=float(input(\"Enter Fahrenheit values: \"))\n",
    "    cout[i]=((xin[i]-32)*(5/9))\n",
    "print(\"Fahrenheit: \",xin)\n",
    "print(\"Centigrade: \",cout)"
   ]
  },
  {
   "cell_type": "markdown",
   "id": "346a9770",
   "metadata": {},
   "source": [
    "2. Write a numpy program to create a random array with 1000 elements and compute the average, variance, standard deviation of the array elements."
   ]
  },
  {
   "cell_type": "code",
   "execution_count": 46,
   "id": "98efacf7",
   "metadata": {},
   "outputs": [
    {
     "name": "stdout",
     "output_type": "stream",
     "text": [
      "Average:  5105.184\n",
      "Varience:  8574022.590144001\n",
      "Std Deviation:  2928.1431983671837\n"
     ]
    }
   ],
   "source": [
    "randarr = np.random.randint(0,10000,1000)\n",
    "print(\"Average: \",randarr.mean())\n",
    "print(\"Varience: \",randarr.var())\n",
    "print(\"Std Deviation: \",randarr.std())"
   ]
  },
  {
   "cell_type": "markdown",
   "id": "4fa650f7",
   "metadata": {},
   "source": [
    "3. Write a numpy program to convert angles from degrees to radians for all elements in a given array"
   ]
  },
  {
   "cell_type": "code",
   "execution_count": null,
   "id": "7bc917ed",
   "metadata": {},
   "outputs": [
    {
     "name": "stdout",
     "output_type": "stream",
     "text": [
      "Degrees:  [  0  30  45  60  90 180 270 360]\n",
      "Radians:  [0.         0.52359878 0.78539816 1.04719755 1.57079633 3.14159265\n",
      " 4.71238898 6.28318531]\n",
      "[  0.  30.  45.  60.  90. 180. 270. 360.]\n"
     ]
    }
   ],
   "source": [
    "degrees = np.array([0,30,45,60,90,180,270,360])\n",
    "radians = np.deg2rad(degrees)\n",
    "print(\"Degrees: \",degrees)\n",
    "print(\"Radians: \",radians)"
   ]
  },
  {
   "cell_type": "markdown",
   "id": "8feaffb3",
   "metadata": {},
   "source": [
    "4. Write a numpy program to calculate the difference between neighbouring elements, element-wise of a given array"
   ]
  },
  {
   "cell_type": "code",
   "execution_count": 50,
   "id": "b6a6afa2",
   "metadata": {},
   "outputs": [
    {
     "name": "stdout",
     "output_type": "stream",
     "text": [
      "Original array:  [ 10  15  20  40  50 120]\n",
      "Different btw neigbhour:  [ 5  5 20 10 70]\n"
     ]
    }
   ],
   "source": [
    "arr = np.array([10,15,20,40,50,120])\n",
    "diff = np.diff(arr)\n",
    "print(\"Original array: \",arr)\n",
    "print(\"Different btw neigbhour: \",diff)"
   ]
  },
  {
   "cell_type": "markdown",
   "id": "68120be3",
   "metadata": {},
   "source": [
    "5.Write a numpy program to sort a given complex array using the real part first, then the imaginary part"
   ]
  },
  {
   "cell_type": "code",
   "execution_count": 75,
   "id": "9ba9288c",
   "metadata": {},
   "outputs": [
    {
     "name": "stdout",
     "output_type": "stream",
     "text": [
      "[1.+2.j 1.+7.j 2.+5.j 3.+1.j 3.+2.j]\n",
      "[1.+7.j 1.+2.j 2.+5.j 3.+2.j 3.+1.j]\n",
      "[3.+1.j 3.+2.j 1.+2.j 2.+5.j 1.+7.j]\n"
     ]
    }
   ],
   "source": [
    "\n",
    "coma = np.array([complex(3,2),complex(1,7),complex(3,1),complex(2,5),complex(1,2)])\n",
    "print(np.sort(coma))\n",
    "print(coma[np.argsort(coma.real)])\n",
    "print(coma[np.argsort(coma.imag)])"
   ]
  }
 ],
 "metadata": {
  "kernelspec": {
   "display_name": "base",
   "language": "python",
   "name": "python3"
  },
  "language_info": {
   "codemirror_mode": {
    "name": "ipython",
    "version": 3
   },
   "file_extension": ".py",
   "mimetype": "text/x-python",
   "name": "python",
   "nbconvert_exporter": "python",
   "pygments_lexer": "ipython3",
   "version": "3.12.7"
  }
 },
 "nbformat": 4,
 "nbformat_minor": 5
}
