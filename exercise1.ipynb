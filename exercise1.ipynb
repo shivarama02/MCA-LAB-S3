{
 "cells": [
  {
   "cell_type": "code",
   "execution_count": 1,
   "id": "6ccb937c",
   "metadata": {},
   "outputs": [
    {
     "name": "stdout",
     "output_type": "stream",
     "text": [
      "[  0.         -11.66666667  25.          37.77777778]\n"
     ]
    }
   ],
   "source": [
    "#1 Convert Farenheit to Celsius\n",
    "import numpy as np\n",
    "fr=np.array([32,11,77,100])\n",
    "# fr = int(input(\"Enter a number in fehrenheit:\"))\n",
    "cel=(fr-32)*5/9\n",
    "print(cel)"
   ]
  },
  {
   "cell_type": "code",
   "execution_count": 2,
   "id": "100acd4d",
   "metadata": {},
   "outputs": [
    {
     "name": "stdout",
     "output_type": "stream",
     "text": [
      "Average:  0.4953632975423767\n",
      "\n",
      "Variance:  0.07972949561077698\n",
      "\n",
      "Deviation:  0.2823641188444045\n"
     ]
    }
   ],
   "source": [
    "#2\n",
    "arr=np.random.rand(1000)\n",
    "avg=np.mean(arr)\n",
    "var=np.var(arr)\n",
    "dev=np.std(arr)\n",
    "print(\"Average: \",avg)\n",
    "print(\"\\nVariance: \",var)\n",
    "print(\"\\nDeviation: \",dev)"
   ]
  },
  {
   "cell_type": "code",
   "execution_count": 3,
   "id": "2a5eb58a",
   "metadata": {},
   "outputs": [
    {
     "name": "stdout",
     "output_type": "stream",
     "text": [
      "[0.55850536 0.19198622 3.14159265 1.57079633]\n"
     ]
    }
   ],
   "source": [
    "#3\n",
    "dg=np.array([32,11,180,90])\n",
    "rad=np.deg2rad(dg)\n",
    "print(rad)"
   ]
  },
  {
   "cell_type": "code",
   "execution_count": 4,
   "id": "ad8c6d33",
   "metadata": {},
   "outputs": [
    {
     "name": "stdout",
     "output_type": "stream",
     "text": [
      "[ 5  5 80]\n"
     ]
    }
   ],
   "source": [
    "#4\n",
    "arr=np.array([10,15,20,100])\n",
    "dif=np.diff(arr)\n",
    "print(dif)\n"
   ]
  },
  {
   "cell_type": "code",
   "execution_count": 5,
   "id": "b026195e",
   "metadata": {},
   "outputs": [
    {
     "name": "stdout",
     "output_type": "stream",
     "text": [
      "[1.+2.j 3.+5.j 9.+1.j 9.+2.j]\n"
     ]
    }
   ],
   "source": [
    "#5\n",
    "arr=np.array([9+2j,9+1j,1+2j,3+5j])\n",
    "sor=np.sort(arr)\n",
    "print(sor)"
   ]
  },
  {
   "cell_type": "code",
   "execution_count": 20,
   "id": "8e241904",
   "metadata": {},
   "outputs": [
    {
     "name": "stdout",
     "output_type": "stream",
     "text": [
      "7\n",
      "9\n",
      "7\n",
      "6\n",
      "5\n",
      "6\n",
      "9\n"
     ]
    }
   ],
   "source": [
    "#6\n",
    "arr=np.random.randint(0,10,size=10)\n",
    "for i in arr:\n",
    "    if i > 4:\n",
    "        print(i)"
   ]
  },
  {
   "cell_type": "code",
   "execution_count": 7,
   "id": "93a06c08",
   "metadata": {},
   "outputs": [
    {
     "name": "stdout",
     "output_type": "stream",
     "text": [
      "Array: [9 2 4 1 8 7 3 9 7 7]\n",
      "1 found at : [3]\n"
     ]
    }
   ],
   "source": [
    "#7\n",
    "arr = np.random.randint(1, 10, size=10)\n",
    "print(\"Array:\", arr)\n",
    "\n",
    "num = int(input(\"Enter a number \"))\n",
    "\n",
    "if num in arr:\n",
    "    ind = np.where(arr == num)[0]\n",
    "    print(f\"{num} found at : {ind}\")\n",
    "else:\n",
    "    print(f\"Not found\")\n"
   ]
  },
  {
   "cell_type": "code",
   "execution_count": 21,
   "id": "51c1be57",
   "metadata": {},
   "outputs": [
    {
     "name": "stdout",
     "output_type": "stream",
     "text": [
      " array: [44  9 85 26 80]\n",
      "Loaded array: [44.  9. 85. 26. 80.]\n"
     ]
    }
   ],
   "source": [
    "#8\n",
    "arr = np.random.randint(1, 101, size=5)\n",
    "print(\" array:\", arr)\n",
    "np.savetxt('array.txt', arr)\n",
    "loaded_arr = np.loadtxt('array.txt')\n",
    "print(\"Loaded array:\", loaded_arr)\n"
   ]
  },
  {
   "cell_type": "code",
   "execution_count": 9,
   "id": "c8e72c9d",
   "metadata": {},
   "outputs": [
    {
     "name": "stdout",
     "output_type": "stream",
     "text": [
      "[30 32 34 36 38 40 42 44 46 48 50 52 54 56 58 60]\n"
     ]
    }
   ],
   "source": [
    "#9\n",
    "arr = np.arange(30, 61, 2)\n",
    "print(arr)"
   ]
  },
  {
   "cell_type": "code",
   "execution_count": 22,
   "id": "bdb03ce0",
   "metadata": {},
   "outputs": [
    {
     "name": "stdout",
     "output_type": "stream",
     "text": [
      "Total sum: 45\n",
      "Row sums: [ 6 15 24]\n",
      "Column sums: [12 15 18]\n"
     ]
    }
   ],
   "source": [
    "#10\n",
    "arr = np.array([[1, 2, 3],\n",
    "                [4, 5, 6],\n",
    "                [7, 8, 9]])\n",
    "\n",
    "total_sum = np.sum(arr)\n",
    "\n",
    "row_sum = np.sum(arr, axis=1)\n",
    "\n",
    "\n",
    "col_sum = np.sum(arr, axis=0)\n",
    "\n",
    "print(\"Total sum:\", total_sum)\n",
    "print(\"Row sums:\", row_sum)\n",
    "print(\"Column sums:\", col_sum)\n"
   ]
  }
 ],
 "metadata": {
  "kernelspec": {
   "display_name": "base",
   "language": "python",
   "name": "python3"
  },
  "language_info": {
   "codemirror_mode": {
    "name": "ipython",
    "version": 3
   },
   "file_extension": ".py",
   "mimetype": "text/x-python",
   "name": "python",
   "nbconvert_exporter": "python",
   "pygments_lexer": "ipython3",
   "version": "3.12.4"
  }
 },
 "nbformat": 4,
 "nbformat_minor": 5
}
